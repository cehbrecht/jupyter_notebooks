{
 "cells": [
  {
   "cell_type": "markdown",
   "metadata": {},
   "source": [
    "## Working with your own code\n",
    "\n",
    "This section of the tutorial will walk you through utilising Git for your own code. Both locally and working with free public remote repository systems such as GitHub.\n",
    "\n",
    "For this example we will :\n",
    " - write a small python script\n",
    " - initialise it as a git repositpry\n",
    " - commit the initial code\n",
    " - make some changes\n",
    " - commit the changes\n",
    " - investigate the git log\n",
    " - revert the changes\n",
    " \n"
   ]
  },
  {
   "cell_type": "code",
   "execution_count": 1,
   "metadata": {},
   "outputs": [
    {
     "name": "stdout",
     "output_type": "stream",
     "text": [
      "total 4\n",
      "-rw-rw-r--. 1 olcl rsg 85 Apr  5 14:41 untitled.py\n",
      "{'foo': 'bar'}\n"
     ]
    }
   ],
   "source": [
    "%%bash\n",
    "\n",
    "ls -l git_tests\n",
    "python git_tests/untitled.py"
   ]
  },
  {
   "cell_type": "code",
   "execution_count": 4,
   "metadata": {},
   "outputs": [],
   "source": [
    "%%bash\n",
    "cd git_tests\n"
   ]
  },
  {
   "cell_type": "code",
   "execution_count": 5,
   "metadata": {},
   "outputs": [
    {
     "name": "stdout",
     "output_type": "stream",
     "text": [
      "total 12\n",
      "-rw-rw-r--. 1 olcl rsg 2442 Apr  5 14:45 Example 1 - Working with my own code.ipynb\n",
      "drwxrwxr-x. 2 olcl rsg   33 Apr  5 14:44 git_tests\n",
      "-rw-rw-r--. 1 olcl rsg 5410 Apr  5 14:30 Presentation.ipynb\n"
     ]
    }
   ],
   "source": [
    "%%bash \n",
    "ls -l"
   ]
  },
  {
   "cell_type": "code",
   "execution_count": null,
   "metadata": {},
   "outputs": [],
   "source": []
  }
 ],
 "metadata": {
  "kernelspec": {
   "display_name": "Python 2",
   "language": "python",
   "name": "python2"
  },
  "language_info": {
   "codemirror_mode": {
    "name": "ipython",
    "version": 2
   },
   "file_extension": ".py",
   "mimetype": "text/x-python",
   "name": "python",
   "nbconvert_exporter": "python",
   "pygments_lexer": "ipython2",
   "version": "2.7.13"
  }
 },
 "nbformat": 4,
 "nbformat_minor": 2
}
