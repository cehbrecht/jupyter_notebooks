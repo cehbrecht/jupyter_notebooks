{
 "cells": [
  {
   "cell_type": "markdown",
   "metadata": {},
   "source": [
    "## Git For Science\n",
    "\n",
    "<img src=\"https://imgs.xkcd.com/comics/git.png\" />\n",
    "\n",
    "## So what is Git (revision control) \n",
    "\n",
    "__What the website says__ : _Git is a free and open source distributed version control system designed to handle everything from small to very large projects with speed and efficiency_\n",
    "\n",
    "__What the creator says__ : _Git is a fast, scalable, distributed revision control system with an unusually rich command set that provides both high-level operations and full access to internals._\n",
    "\n",
    "__What this really means to you__ : _Git allows you to manage edits to code/documents from multiple different people on different platforms whilst maintaining a full and complete version history and log_\n",
    "\n",
    "In its simplest form revision control is any system that allows a history of changes to be recorded and normally will provide a mechanism to go back in time to a specified time/commit.  This can be very useful for code but can also be used on basically any text document such as markdown or LaTeX.  Not only does it allow you to keep a record of your work but if you decide you prefer the way your chapter was written before it is a simple command to return the text to that form.\n",
    "\n",
    "When working in a group revision cotrol is pretty much required. This is becase it will deal with things such as one contributor replacing anothers work by accident and it will highlightto you when to contributors have edited the same section, allowing you to merge and create the best of both.\n",
    "\n",
    "So its quite easy to see the potential benefits of using revision control, in the specific case Git, to manage code and text documents. Both when working as a group or individually."
   ]
  },
  {
   "cell_type": "markdown",
   "metadata": {},
   "source": [
    "## How do i install Git\n",
    "\n",
    "Git is available for pretty much all operating systems (Linux/Unix, Windows & Mac) and can be downloaded from the main Git website @ https://git-scm.com/downloads\n",
    "\n",
    "Alternatively you may be able to install Git using your operating system package manager, such as yum/dnf or apt-get on Linux.  \n",
    "\n",
    "For this course you all have access to a virtual machine (you're on it now) that has git installed and ready to use. You can test this by executing the cell beneath by clicking on it the pressing shift+enter on your keyboard."
   ]
  },
  {
   "cell_type": "code",
   "execution_count": 1,
   "metadata": {},
   "outputs": [
    {
     "name": "stdout",
     "output_type": "stream",
     "text": [
      "git version 2.7.5\n"
     ]
    }
   ],
   "source": [
    "%%bash\n",
    "\n",
    "git --version"
   ]
  },
  {
   "cell_type": "markdown",
   "metadata": {},
   "source": [
    "## Basic Git commands\n",
    "\n",
    "git is primarily a command line tool, there are many graphical clients and i will mention some of them later. However an understanding of the core commands will make using any of teh graphical tools much easier. \n",
    "\n",
    "Here we will just list and briefly exaplin the commands, we will then use them in two examples :\n",
    "\n",
    " - starting with nothing\n",
    " - starting from an existing project\n",
    " \n",
    " \n",
    "```bash\n",
    "\n",
    "git init # this will initialise the current directory as a repository (this will make more sense soon i promise)\n",
    "\n",
    "git clone # this is used to 'clone' or copy a repository from a remote URL \n",
    "\n",
    "git status # allows you to check the current status of the repository you are in\n",
    "\n",
    "git add # used to add files to be monitored by git\n",
    "\n",
    "git commit # used to commit current changes in the working directory and files\n",
    "\n",
    "git pull # used to pull the latest changes from a remote repository\n",
    "\n",
    "git push # used to push local commits to the remote repository\n",
    "\n",
    "```\n",
    "\n",
    "### Slightly more complex commands\n",
    "\n",
    "```bash\n",
    "\n",
    "git branch # used to create a new 'branch' of the current repo  (again we will explain this in more detail later)\n",
    "\n",
    "git merge # used to merge different branches of the repository\n",
    "\n",
    "git log # used to output the commit log for the current repository\n",
    "\n",
    "```"
   ]
  },
  {
   "cell_type": "markdown",
   "metadata": {},
   "source": [
    "__[Example 1 - working with your own code](Example 1 - Working with my own code.ipynb#)__\n",
    "\n",
    "__[Example 2 - working with existing public code](Example 2 - Working with public code.ipynb#)__\n",
    "\n"
   ]
  },
  {
   "cell_type": "code",
   "execution_count": null,
   "metadata": {
    "collapsed": true
   },
   "outputs": [],
   "source": []
  }
 ],
 "metadata": {
  "kernelspec": {
   "display_name": "Python 2",
   "language": "python",
   "name": "python2"
  },
  "language_info": {
   "codemirror_mode": {
    "name": "ipython",
    "version": 2
   },
   "file_extension": ".py",
   "mimetype": "text/x-python",
   "name": "python",
   "nbconvert_exporter": "python",
   "pygments_lexer": "ipython2",
   "version": "2.7.5"
  }
 },
 "nbformat": 4,
 "nbformat_minor": 2
}
