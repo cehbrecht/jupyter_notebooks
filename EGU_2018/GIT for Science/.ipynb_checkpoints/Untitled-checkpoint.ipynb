{
 "cells": [
  {
   "cell_type": "markdown",
   "metadata": {},
   "source": [
    "## Git For Science\n",
    "\n",
    "__What the website says__ : _Git is a free and open source distributed version control system designed to handle everything from small to very large projects with speed and efficiency_\n",
    "\n",
    "__What the creator says__ : _Git is a fast, scalable, distributed revision control system with an unusually rich command set that provides both high-level operations and full access to internals._\n",
    "\n",
    "__What this really means to you__ : _Git allows you to manage edits to code/documents from multiple different people on different platforms whilst maintaining a full and complete version history and log_"
   ]
  },
  {
   "cell_type": "code",
   "execution_count": 9,
   "metadata": {},
   "outputs": [
    {
     "name": "stdout",
     "output_type": "stream",
     "text": [
      "git version 2.7.5\n",
      "total 4\n",
      "drwxrwxr-x. 2 olcl rsg   10 Apr  5 11:18 git_tests\n",
      "-rw-rw-r--. 1 olcl rsg 3245 Apr  5 11:17 Untitled.ipynb\n",
      "total 0\n",
      "Initialized empty Git repository in /users/rsg/olcl/git_repos/jupyter_notebooks/EGU_2018/GIT for Science/git_tests/.git/\n"
     ]
    }
   ],
   "source": [
    "%%bash\n",
    "\n",
    "git --version\n",
    "ls -l \n",
    "cd git_tests\n",
    "ls -l\n",
    "git init"
   ]
  },
  {
   "cell_type": "code",
   "execution_count": 10,
   "metadata": {},
   "outputs": [
    {
     "name": "stdout",
     "output_type": "stream",
     "text": [
      "On branch master\n",
      "Your branch is up-to-date with 'origin/master'.\n",
      "Untracked files:\n",
      "  (use \"git add <file>...\" to include in what will be committed)\n",
      "\n",
      "\t../\n",
      "\n",
      "nothing added to commit but untracked files present (use \"git add\" to track)\n"
     ]
    }
   ],
   "source": [
    "%%bash\n",
    "\n",
    "git status"
   ]
  },
  {
   "cell_type": "code",
   "execution_count": null,
   "metadata": {},
   "outputs": [],
   "source": []
  }
 ],
 "metadata": {
  "kernelspec": {
   "display_name": "Python 2",
   "language": "python",
   "name": "python2"
  },
  "language_info": {
   "codemirror_mode": {
    "name": "ipython",
    "version": 2
   },
   "file_extension": ".py",
   "mimetype": "text/x-python",
   "name": "python",
   "nbconvert_exporter": "python",
   "pygments_lexer": "ipython2",
   "version": "2.7.13"
  }
 },
 "nbformat": 4,
 "nbformat_minor": 2
}
