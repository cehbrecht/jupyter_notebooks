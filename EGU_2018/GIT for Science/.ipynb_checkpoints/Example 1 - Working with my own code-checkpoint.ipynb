{
 "cells": [
  {
   "cell_type": "markdown",
   "metadata": {},
   "source": [
    "## Working with your own code\n",
    "\n",
    "This section of the tutorial will walk you through utilising Git for your own code. Both locally and working with free public remote repository systems such as GitHub.\n",
    "\n",
    "For this example we will :\n",
    " - write a small python script\n",
    " - initialise it as a git repositpry\n",
    " - commit the initial code\n",
    " - make some changes\n",
    " - commit the changes\n",
    " - investigate the git log\n",
    " - revert the changes\n",
    " \n"
   ]
  },
  {
   "cell_type": "code",
   "execution_count": 5,
   "metadata": {},
   "outputs": [
    {
     "name": "stdout",
     "output_type": "stream",
     "text": [
      "total 4\n",
      "-rw-rw-r--. 1 olcl rsg  0 Apr  5 11:22 test.txt\n",
      "-rw-rw-r--. 1 olcl rsg 85 Apr  5 14:41 untitled.py\n",
      "{'foo': 'bar'}\n"
     ]
    }
   ],
   "source": [
    "%%bash\n",
    "\n",
    "ls -l git_tests\n",
    "python git_tests/untitled.py"
   ]
  },
  {
   "cell_type": "code",
   "execution_count": 11,
   "metadata": {},
   "outputs": [
    {
     "name": "stdout",
     "output_type": "stream",
     "text": [
      "total 4\n",
      "-rw-rw-r--. 1 olcl rsg 85 Apr  5 14:41 untitled.py\n",
      "On branch master\n",
      "\n",
      "Initial commit\n",
      "\n",
      "Untracked files:\n",
      "  (use \"git add <file>...\" to include in what will be committed)\n",
      "\n",
      "\t../.ipynb_checkpoints/\n",
      "\t../Example 1 - Working with my own code.ipynb\n",
      "\t../Presentation.ipynb\n",
      "\t./\n",
      "\n",
      "nothing added to commit but untracked files present (use \"git add\" to track)\n"
     ]
    }
   ],
   "source": [
    "%%bash\n",
    "cd git_tests\n",
    "\n",
    "ls -l\n",
    "\n",
    "git status"
   ]
  },
  {
   "cell_type": "code",
   "execution_count": null,
   "metadata": {},
   "outputs": [],
   "source": []
  }
 ],
 "metadata": {
  "kernelspec": {
   "display_name": "Python 2",
   "language": "python",
   "name": "python2"
  },
  "language_info": {
   "codemirror_mode": {
    "name": "ipython",
    "version": 2
   },
   "file_extension": ".py",
   "mimetype": "text/x-python",
   "name": "python",
   "nbconvert_exporter": "python",
   "pygments_lexer": "ipython2",
   "version": "2.7.13"
  }
 },
 "nbformat": 4,
 "nbformat_minor": 2
}
