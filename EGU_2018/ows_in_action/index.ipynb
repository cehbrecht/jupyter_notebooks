{
 "cells": [
  {
   "cell_type": "markdown",
   "metadata": {
    "collapsed": true
   },
   "source": [
    "<img src=\"./img/logos_combined.png\" align=\"right\" width=\"70%\"></img>\n",
    "<br><br><br>"
   ]
  },
  {
   "cell_type": "markdown",
   "metadata": {},
   "source": [
    "# Geospatial Web Services in action"
   ]
  },
  {
   "cell_type": "markdown",
   "metadata": {},
   "source": [
    "### ... or how to analyse and processing large volumes of data without downloading it"
   ]
  },
  {
   "cell_type": "markdown",
   "metadata": {},
   "source": [
    "\n",
    "Short course created for [EGU 2018](https://meetingorganizer.copernicus.org/EGU2018/session/28984) <br>\n",
    "Tuesday, 10 April 2018, 8:30 - 10:00 | Room -2.85\n",
    "\n",
    "### Speakers\n",
    "Oliver Clements - Plymouth Marine Laboratory <br>\n",
    "Julia Wagemann - European Centre for Medium-Range Weather Forecasts <br>\n",
    "Dr. Stephan Siemen - European Centre for Medium-Range Weather Forecasts <br>\n",
    "\n",
    "### Access to tutorial material \n",
    "\n",
    "The short course material can be accessed via https://jupyter.eofrom.space. <br>\n",
    "You will need to log in with your GitHub credentials.\n",
    "<br>\n",
    "\n",
    "The notebooks are also on GitHub: https://github.com/earthserver-eu/jupyter_notebooks/tree/master/EGU_2018/ows_in_action"
   ]
  },
  {
   "cell_type": "markdown",
   "metadata": {},
   "source": [
    "<hr>"
   ]
  },
  {
   "cell_type": "markdown",
   "metadata": {},
   "source": [
    "# Structure of this short course\n",
    "<br>\n",
    "\n",
    "|Time|Content|\n",
    "|---------|-----------|\n",
    "|8:30 - 8:40 | <b>Intro and short course overview</b> |\n",
    "|8:40 - 8:50 | [<b>OGC Web Services - an overview</b>](#ows-overview) <br> |\n",
    "|8:50 - 8:55 | [<b>Marine Science Data Service</b>](#marine) |\n",
    "|8:55 - 9:00 | [<b>Climate Science Data Service</b>](climate) |\n",
    "|9:00 - 9:10 | [<b>Introduction to python's owslib</b>](./01_owslib_example.ipynb) |\n",
    "|9:10 - 9:25 | [<b>Introduction to WCPS</b>](./02_wcps_example.ipynb) |\n",
    "|9:25 - 9:35 | [<b>Using WCPS with Python's requests library</b>](./02_wcps_example.ipynb#requests_lib) |\n",
    "|9:35 - 10:00 | [<b>es-data-lib - Examples and use cases</b>](./03_es-data-lib_example.ipynb) |"
   ]
  },
  {
   "cell_type": "markdown",
   "metadata": {},
   "source": [
    "<hr>"
   ]
  },
  {
   "cell_type": "markdown",
   "metadata": {},
   "source": [
    "# <a id=\"ows-overview\"></a>OGC Web Services - an overview"
   ]
  },
  {
   "cell_type": "markdown",
   "metadata": {},
   "source": [
    "* [What are OGC web services?](#ows)\n",
    "* [How can OGC web services be used?](#ows_uses)\n",
    "* [Web Mapping Service (WMS)](#wms)\n",
    "* [Web Coverage Service (WCS)](#wcs)"
   ]
  },
  {
   "cell_type": "markdown",
   "metadata": {},
   "source": [
    "### <a id=\"ows\"></a>What are OGC web services\n",
    "Web services offer a variety of standard protocols that use the internet to view, access and retrieve geospatial data. The Open Geospatial Consortium (OGC) has defined various different protocols for geospatial data.\n",
    "\n",
    "<br>\n",
    "<img src=\"./img/ogc_standards.jpg\" align=\"centre\" width=\"70%\"></img>\n",
    "<br>"
   ]
  },
  {
   "cell_type": "markdown",
   "metadata": {},
   "source": [
    "### <a id=\"ows_uses\"></a>How can OGC web services be used?\n",
    "<br>\n",
    "\n",
    "<br>\n",
    "<img src=\"./img/WCS_graphic_small.jpg\" align=\"centre\" width=\"90%\"></img>\n",
    "<br>"
   ]
  },
  {
   "cell_type": "markdown",
   "metadata": {},
   "source": [
    "### <a id=\"wms\"></a> Web Mapping Service (WMS)\n",
    "\n",
    "A Web Mapping Service (WMS) is a widely-used OGC standard for geospatial datasets that returns spatial data as an 'image' or 'static map'.\n",
    "> the ** *GetCapabilities* ** request returns an XML document with information to the service and data provider and an overview of all the maps available on the web server\n",
    "\n",
    ">> Example: <a href=\"http://apps.ecmwf.int/wms/?token=public&version=1.3.0&request=GetCapabilities\" target=\"_blank\">http://apps.ecmwf.int/wms/?token=public&version=1.3.0&request=GetCapabilities</a>\n",
    "\n",
    "> the ** *GetMap* ** request returns a static map / image\n",
    ">> Example: retrieve Aerosol Optical Depth (AOD) at 550 nm  \n",
    "<a href='http://apps.ecmwf.int/wms/?token=public&version=1.3.0&request=GetMap&layers=composition_aod550&style=sh_BuYlRd_aod_lowthreshold' target=\"_blank\">http://apps.ecmwf.int/wms/?token=public&version=1.3.0&request=GetMap&layers=composition_aod550</a>"
   ]
  },
  {
   "cell_type": "markdown",
   "metadata": {},
   "source": [
    "### <a id=\"wcs\"></a> Web Coverage Service (WCS)\n",
    "\n",
    "A Web Coverage Service is a data-access protocol that defines and enables the web-based retrieval of multi-dimensional geospatial datasets.  \n",
    "The WCS core supports three main HTTP requests (operations), which are submitted in the form of a URL:\n",
    "> the ** *GetCapabilities* ** request returns an XML document with information to the service and data provider and an overview of all the coverages (geospatial fields) available on the web server\n",
    "\n",
    ">> Example: <a href=\"http://earthserver.ecmwf.int/rasdaman/ows?service=WCS&version=2.0.1&request=GetCapabilities\" target=\"_blank\">http://earthserver.ecmwf.int/rasdaman/ows?service=WCS&version=2.0.1&request=GetCapabilities</a>\n",
    "\n",
    "> the ** *DescribeCoverage* ** request returns an XML document with metadata information of one specific coverage\n",
    ">> Example: get information about 2m air temperature coverage  \n",
    "<a href=\"http://earthserver.ecmwf.int/rasdaman/ows?service=WCS&version=2.0.1&request=DescribeCoverage&coverageId=temp2m\" target=\"_blank\">http://earthserver.ecmwf.int/rasdaman/ows?service=WCS&version=2.0.1&request=DescribeCoverage&coverageId=temp2m</a>\n",
    "\n",
    "> the ** *GetCoverage* ** request returns a full coverage encoded in a specified format, e.g GeoTiff, XML or netCDF\n",
    ">> Example: retrieve a 2D global field of 2m air temperature of 15 December 2013 in XML format  \n",
    "<a href='http://earthserver.ecmwf.int/rasdaman/ows?service=WCS&version=2.0.1&request=GetCoverage&coverageId=temp2m&subset=ansi(\"2013-12-15T00:00\")&format=application/gml+xml' target=\"_blank\">http://earthserver.ecmwf.int/rasdaman/ows?service=WCS&version=2.0.1&request=GetCoverage&coverageId=temp2m&subset=ansi(\"2013-12-15T00:00\")&format=application/gml+xml</a>"
   ]
  },
  {
   "cell_type": "markdown",
   "metadata": {},
   "source": [
    "<hr>"
   ]
  },
  {
   "cell_type": "markdown",
   "metadata": {},
   "source": [
    "# <a id=\"marine\"></a>Marine Science Data Service"
   ]
  },
  {
   "cell_type": "markdown",
   "metadata": {
    "collapsed": true
   },
   "source": [
    "The MSDS provides access to more than 400TB of Ocean Colour remote sensed data. The data in comprsed of primarily the ESA Ocean Colour Climate Change Initiative data. The data represent a unique global time series spanning ~20yrs. There are multiple versions of the data representing processing versions of underlying data as well as improvements in the processing chain used by OC-CCI.\n",
    "\n",
    "The data can be accessed through several clients as well as programatically through the WCS endpoints.\n",
    "\n",
    "\n",
    "<br>\n",
    "<img src=\"./img/marine_overview.png\" align=\"centre\" width=\"70%\"></img>\n",
    "<br>\n",
    "\n",
    "\n",
    "The client above provied quick visual lookup as well as interfaces to download match-ups. Match-ups are an important piece of validation when testing remote sensed data. Ther service allows users to uplaod a csv file of insitu measurements. The servie then extracts the corresponding remote sensed value and returns a csv with this data to the user. The user is then free to use whatever statistical suite they are comfortable with.\n",
    "\n",
    "brace yourself for a live demo!!\n",
    "\n",
    "http://earthserver.pml.ac.uk\n"
   ]
  },
  {
   "cell_type": "markdown",
   "metadata": {},
   "source": [
    "<hr>"
   ]
  },
  {
   "cell_type": "markdown",
   "metadata": {},
   "source": [
    "# <a id=\"climate\"></a>Climate Science Data Service"
   ]
  },
  {
   "cell_type": "markdown",
   "metadata": {
    "collapsed": true
   },
   "source": [
    "### <a id=\"ecmwf_data\"></a>ECMWF (open) data\n",
    "<br>\n",
    "\n",
    "![ecmwf_data](img/ecmwf_data.png)\n",
    "<br>\n",
    "\n",
    "\n",
    "#### ECMWF data are: \n",
    "\n",
    "\n",
    "* numeric\n",
    "* structured\n",
    "* multi-dimensional (up to 5-dimensions)\n",
    "* mostly large in volume (~ 27 GB per ERA-interim parameter)\n",
    "* <b>Format:</b> netCDF or GRIB (binary format)<br>\n",
    "<br>\n",
    "\n",
    "<img src=\"./img/ecmwf_data_dimensions.png\" align=\"centre\" width=\"80%\"></img><br>"
   ]
  },
  {
   "cell_type": "markdown",
   "metadata": {},
   "source": [
    "## Climate Science Data Service is a **Web Coverage Service (WCS) for Climate Data**.\n",
    "* developed in the framework of the H2020 EarthServer-2 project\n",
    "* offers access to ERA-interim reanalysis, Fire Weather Index, River discharge Forecast and Copernicus Atmosphere Monitoring Service data\n",
    "* it is standard data-access protocols which return data in it's raw form\n",
    "* multi-dimensional gridded data fields can be accessed and processed in an interoperable way"
   ]
  },
  {
   "cell_type": "markdown",
   "metadata": {},
   "source": [
    "#### Get more information under http://earthserver.ecmwf.int\n",
    "* Go to service endpoint: http://earthserver.ecmwf.int/rasdaman/ows?\n",
    "* Go to demo web client: http://earthserver.ecmwf.int/earthserver/worldwind/"
   ]
  },
  {
   "cell_type": "markdown",
   "metadata": {},
   "source": [
    "<hr>"
   ]
  },
  {
   "cell_type": "markdown",
   "metadata": {},
   "source": [
    "# Further ressources"
   ]
  },
  {
   "cell_type": "markdown",
   "metadata": {
    "collapsed": true
   },
   "source": [
    "* [EarthServer-2 Website](www.earthserver.eu)\n",
    "* [Climate Science Data Service | EarthServer-2](http://earthserver.ecmwf.int)\n",
    "* [Marine Science Data Service | EarthServer-2](http://earthserver.pml.ac.uk)\n",
    "* [Tutorial on OGC Web Coverage Service](https://nbviewer.jupyter.org/github/earthserver-eu/OGC_WCS_tutorial/blob/master/index.ipynb)\n"
   ]
  },
  {
   "cell_type": "markdown",
   "metadata": {},
   "source": [
    "<hr>"
   ]
  },
  {
   "cell_type": "markdown",
   "metadata": {},
   "source": [
    "<a rel=\"license\" href=\"http://creativecommons.org/licenses/by/4.0/\"><img style=\"float: right\" alt=\"Creative Commons Lizenzvertrag\" style=\"border-width:0\" src=\"https://i.creativecommons.org/l/by/4.0/88x31.png\" /></a>"
   ]
  }
 ],
 "metadata": {
  "kernelspec": {
   "display_name": "Python 2",
   "language": "python",
   "name": "python2"
  },
  "language_info": {
   "codemirror_mode": {
    "name": "ipython",
    "version": 2
   },
   "file_extension": ".py",
   "mimetype": "text/x-python",
   "name": "python",
   "nbconvert_exporter": "python",
   "pygments_lexer": "ipython2",
   "version": "2.7.5"
  }
 },
 "nbformat": 4,
 "nbformat_minor": 1
}
