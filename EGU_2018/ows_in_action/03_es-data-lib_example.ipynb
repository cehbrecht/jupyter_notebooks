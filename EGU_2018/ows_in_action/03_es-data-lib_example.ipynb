{
 "cells": [
  {
   "cell_type": "markdown",
   "metadata": {},
   "source": [
    "<img src=\"./img/logos_combined.png\" align=\"right\" width=\"50%\"></img>\n",
    "<br><br><br>"
   ]
  },
  {
   "cell_type": "markdown",
   "metadata": {},
   "source": [
    "# es-data-lib - Example and use cases"
   ]
  },
  {
   "cell_type": "markdown",
   "metadata": {
    "collapsed": true
   },
   "source": [
    "<p>This notebok gives a quick overview of the current state of the data access library. The purpose of the library is to reduce the barrier for third parties to create data clients on top of the data services created as part of the project.</p>\n",
    "<p>The library can be downloaded from github - final location to be decided - @ <a href=\"https://github.com/earthserver-eu/es_data_lib\">https://github.com/earthserver-eu/es_data_lib</a>\n",
    "<p>The Library currently allows 4 types of data access</p>\n",
    "\n",
    " * Point\n",
    " * Point Timeseries\n",
    " * Area\n",
    " * Area Timeseries"
   ]
  },
  {
   "cell_type": "code",
   "execution_count": null,
   "metadata": {
    "collapsed": true
   },
   "outputs": [],
   "source": [
    "from es_data_lib import coverages, services\n",
    "from es_data_lib.query.point import Point\n",
    "from es_data_lib.query.point_timeseries import PointTimeSeries\n",
    "from es_data_lib.query.area import Area\n",
    "from es_data_lib.query.area_timeseries import AreaTimeseries\n",
    "from es_data_lib.service import Service\n",
    "\n",
    "\n",
    "import matplotlib.pyplot as plt\n",
    "import numpy as np\n",
    "import matplotlib\n",
    "\n"
   ]
  },
  {
   "cell_type": "code",
   "execution_count": null,
   "metadata": {
    "collapsed": true
   },
   "outputs": [],
   "source": [
    "service = Service(\"http://earthserver.pml.ac.uk/rasdaman/ows\")\n",
    "print service.coverages.keys()"
   ]
  },
  {
   "cell_type": "markdown",
   "metadata": {},
   "source": [
    "## point example"
   ]
  },
  {
   "cell_type": "code",
   "execution_count": null,
   "metadata": {
    "collapsed": true
   },
   "outputs": [],
   "source": [
    "point = Point(service,55, -40,  service.coverages['OCCCI_V3_monthly_chlor_a'],date=\"2006-06-01T00:00:00Z\")\n",
    "\n",
    "print point.data"
   ]
  },
  {
   "cell_type": "markdown",
   "metadata": {},
   "source": [
    "## point timeseries example"
   ]
  },
  {
   "cell_type": "code",
   "execution_count": null,
   "metadata": {
    "collapsed": true
   },
   "outputs": [],
   "source": [
    "pointTS = PointTimeSeries(service,55, -40, \"2006-06-01T00:00:00Z\",\"2006-10-01T00:00:00Z\", service.coverages['OCCCI_V3_monthly_chlor_a'])\n",
    "print pointTS.data"
   ]
  },
  {
   "cell_type": "code",
   "execution_count": null,
   "metadata": {
    "collapsed": true
   },
   "outputs": [],
   "source": [
    "# ECMWF time series test\n",
    "# init ecmwf Service \n",
    "ecmwf_service = Service(\"http://earthserver.ecmwf.int/rasdaman/ows\")\n",
    "\n",
    "%matplotlib inline\n",
    "\n",
    "point = PointTimeSeries(ecmwf_service,50.347472, -4.217737,  \"2006-03-01T12:00:00Z\", \"2012-03-01T12:00:00Z\", ecmwf_service.coverages['temp2m'])\n",
    "plt.plot([x - 273.15 for x in point.data][0::4])\n",
    "plt.show()"
   ]
  },
  {
   "cell_type": "markdown",
   "metadata": {},
   "source": [
    "## area extraction example"
   ]
  },
  {
   "cell_type": "code",
   "execution_count": null,
   "metadata": {
    "collapsed": true
   },
   "outputs": [],
   "source": [
    "# csv output will be auto parsed into a numpy array this example then snows potting that using matplot lib\n",
    "# need a clean way to remove nulls\n",
    "area = Area(service, 40, 65, -30, 10, service.coverages['OCCCI_V3_monthly_chlor_a'], date=\"2006-09-01T00:00:00Z\", output=\"csv\")\n",
    "area.data[area.data == 9.96921e+36] = None\n",
    "plt.imshow(area.data, norm=matplotlib.colors.LogNorm())\n",
    "plt.show()"
   ]
  },
  {
   "cell_type": "markdown",
   "metadata": {},
   "source": [
    "## complex example NDWI - Water index from landsat"
   ]
  },
  {
   "cell_type": "code",
   "execution_count": null,
   "metadata": {
    "collapsed": true
   },
   "outputs": [],
   "source": [
    "\n",
    "import numpy as np\n",
    "from PIL import Image\n",
    "import matplotlib.pyplot as plt\n",
    "import cStringIO\n",
    "\n",
    "from es_data_lib.query.templates import landsat_rgb_area,ndvi,ndwi_mcfeeters\n",
    "from es_data_lib.utils import create_query, web_post, web_post_file\n",
    "from es_data_lib.query.query import Query\n",
    "from es_data_lib.service import Service\n",
    "\n",
    "\n",
    "class NDWI(Query):\n",
    "    def __init__(self, service, south, north, west, east, date, coverage_id, output=\"png\"):\n",
    "        coverage = service.coverages['L8_B5_'+coverage_id]\n",
    "        super(NDWI, self).__init__(service, coverage)\n",
    "        self.template_params = {\n",
    "            \"swath_id\": coverage_id,\n",
    "            \"south\": south,\n",
    "            \"north\": north,\n",
    "            \"west\": west,\n",
    "            \"east\": east,\n",
    "            \"date\": date,\n",
    "            \"time_label\":self.coverage_time,\n",
    "            \"x_label\":self.x_name,\n",
    "            \"y_label\":self.y_name,\n",
    "            \"output\" : output\n",
    "        }\n",
    "        self.output = output\n",
    "        self.template = ndwi_mcfeeters\n",
    "        self._get_data()\n",
    "\n",
    "    def _get_data(self):\n",
    "        self.query = create_query(self)\n",
    "        if self.output == \"csv\":\n",
    "            self.data = web_post(self.wcps_url, {\"query\":self.query})[1:-1]\n",
    "        if self.output == \"netcdf\":\n",
    "            self.data = web_post_file(self.wcps_url, {\"query\":self.query})\n",
    "        if self.output == \"gtiff\":\n",
    "            self.data = web_post_file(self.wcps_url, {\"query\":self.query})\n",
    "        if self.output == \"png\":\n",
    "            self.data = web_post_file(self.wcps_url, {\"query\":self.query})\n",
    "\n",
    "\n",
    "meeo_service = Service('https://eodataservice.org/rasdaman/ows')\n",
    "\n",
    "\n",
    "meeo_area = NDWI(meeo_service, 4902991, 4917275, 377983, 390000, \"2015-05-31T10:34:57Z\" , \"32631_30\",output=\"gtiff\")\n",
    "\n",
    "with open(\"meeo_output.tif\",'w') as output_file:\n",
    "    output_file.write(meeo_area.data)\n",
    "\n",
    "\n",
    "Image.open( \"meeo_output.tif\" ).show()"
   ]
  }
 ],
 "metadata": {
  "kernelspec": {
   "display_name": "Python 3",
   "language": "python",
   "name": "python3"
  },
  "language_info": {
   "codemirror_mode": {
    "name": "ipython",
    "version": 3
   },
   "file_extension": ".py",
   "mimetype": "text/x-python",
   "name": "python",
   "nbconvert_exporter": "python",
   "pygments_lexer": "ipython3",
   "version": "3.6.1"
  }
 },
 "nbformat": 4,
 "nbformat_minor": 2
}
