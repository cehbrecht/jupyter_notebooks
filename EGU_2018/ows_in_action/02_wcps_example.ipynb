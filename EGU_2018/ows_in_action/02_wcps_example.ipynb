{
 "cells": [
  {
   "cell_type": "markdown",
   "metadata": {},
   "source": [
    "<img src=\"./img/logos_combined.png\" align=\"right\" width=\"50%\"></img>\n",
    "<br><br><br>"
   ]
  },
  {
   "cell_type": "markdown",
   "metadata": {},
   "source": [
    "# Web Coverage Processing Service (WCPS) - Introduction and example"
   ]
  },
  {
   "cell_type": "markdown",
   "metadata": {},
   "source": [
    "<hr>\n",
    "<a href=\"./01_owslib_example.ipynb\"><< OWSlib example</a>&nbsp;<space>&nbsp;<space>&nbsp;<space>&nbsp;<space>&nbsp;<space>&nbsp;<space>&nbsp;<space>&nbsp;<space>&nbsp;<space>&nbsp;<space> <a href=\"./03_es_data_lib.ipynb\">es-data-lib example >></a>"
   ]
  },
  {
   "cell_type": "markdown",
   "metadata": {},
   "source": [
    "## WCPS request"
   ]
  },
  {
   "cell_type": "markdown",
   "metadata": {
    "collapsed": true
   },
   "source": [
    "A **Web Coverage Processing Service** is an extension supported by the WCS 2.0 core specification and can optionally be implemented by a WCS server. WCPS allows for crafting queries to be run on the data using a text based query language, similar to SQL.  \n",
    "The extension specifies an additional WCS request:  \n",
    "> the ***ProcessCoverages*** request returns a coverage encoded in a specified format (e.g. netCDF or csv) and allows for mathematical calculations on the requested coverages. \n",
    ">> Example: Convert a 2D global field of 2m air temperature from 31 December 2015 from K to degC  \n",
    "<a href='http://earthserver.ecmwf.int/rasdaman/ows?service=WCS&version=2.0.1&request=ProcessCoverages&query=for c in (temp2m) return encode (c[ansi(\"2015-12-31T00:00\")] - 273.15,\"csv\")' target=\"_blank\">http://earthserver.ecmwf.int/rasdaman/ows?service=WCS&version=2.0.1&request=ProcessCoverages&query=for c in (temp2m) return encode (c[ansi(\"2015-12-31T00:00\")] - 273.15,\"csv\")</a>"
   ]
  },
  {
   "cell_type": "markdown",
   "metadata": {
    "collapsed": true
   },
   "source": [
    "<hr>"
   ]
  },
  {
   "cell_type": "markdown",
   "metadata": {},
   "source": [
    "## <a id=\"requests_lib\"></a> requests library - Using WCS from Python"
   ]
  },
  {
   "cell_type": "markdown",
   "metadata": {
    "collapsed": true
   },
   "source": [
    "#### Retrieve a time-series of global monthly averages of 2m air temperature and store it as python list\n",
    "\n",
    "\n",
    "WCS request of retrieving a time series of global monthly means. In the placeholders the parameter and the temporal limits of the time-series (in ISO-format, e.g. \"2010-01-01T00:00\") have to be specified. The query contains following processing steps: (1) Surface temperature values in Kelvin are converted to degree Celsius and (2) 6-hourly global time-series is averaged based on specified time-series limits.\n",
    "* Access point: http://earthserver.ecmwf.int/rasdaman/ows?service=WCS&version=2.0.1\n",
    "* Request type: &ProcessCoverages\n",
    "* WCPS query (example): &query=for c in (temp2m) return encode(avg(c[ansi(\"2001-01-01T00:00\":\"2001-01-31T18:00\")] - 273.15), \"csv\")"
   ]
  },
  {
   "cell_type": "code",
   "execution_count": null,
   "metadata": {
    "collapsed": true
   },
   "outputs": [],
   "source": [
    "url_fmt = 'http://earthserver.ecmwf.int/rasdaman/ows?service=WCS&version=2.0.1' \\\n",
    "          '&request=ProcessCoverages' \\\n",
    "          '&query=for c in (%s) return encode(avg(c[ansi(\"%s\":\"%s\")] - 273.15), \"csv\")'"
   ]
  },
  {
   "cell_type": "code",
   "execution_count": null,
   "metadata": {
    "scrolled": true
   },
   "outputs": [],
   "source": [
    "# Helper lists for handling datetime objects\n",
    "\n",
    "from datetime import datetime, timedelta\n",
    "from dateutil.relativedelta import relativedelta\n",
    "\n",
    "# A list for every first day in the month from Jan 1979 to Dec 2014\n",
    "startDateList = list((range(12)))\n",
    "x =datetime(1979,1,1,0)\n",
    "for i in range(len(startDateList)):\n",
    "    startDateList[i]=x\n",
    "    x=(x.replace(day=1)+timedelta(days=31)).replace(day=1)\n",
    "\n",
    "# A list with every last day of the month from Jan 1979 to Dec 2014\n",
    "endDateList = list((range(12)))\n",
    "for i in range(0, len(endDateList)):\n",
    "    y = startDateList[i].replace(hour=18) + relativedelta(day=31)\n",
    "    endDateList[i]=y"
   ]
  },
  {
   "cell_type": "code",
   "execution_count": null,
   "metadata": {},
   "outputs": [],
   "source": [
    "import requests\n",
    "# Go through the helper lists and retrieve for every month the monthly global mean of 2m air temperature \n",
    "# and append a list of monthly global means.\n",
    "monthlyAvgTS = []\n",
    "for i,j in zip(startDateList,endDateList):\n",
    "    url = url_fmt % (\"temp2m\", i.isoformat(),j.isoformat())\n",
    "    r= requests.get(url,\n",
    "                proxies={'http':None}\n",
    "                )\n",
    "\n",
    "    r.raise_for_status()\n",
    "    k= [float(a) for a in r.text.split(\",\")]\n",
    "    monthlyAvgTS.append(k[0])"
   ]
  },
  {
   "cell_type": "code",
   "execution_count": null,
   "metadata": {},
   "outputs": [],
   "source": [
    "monthlyAvgTS"
   ]
  },
  {
   "cell_type": "markdown",
   "metadata": {},
   "source": [
    "<hr>"
   ]
  },
  {
   "cell_type": "markdown",
   "metadata": {},
   "source": [
    "#### EXTRA: Retrieve global monthly average 2m air temperature fields and store them into a multi-dimensional numpy array"
   ]
  },
  {
   "cell_type": "markdown",
   "metadata": {},
   "source": [
    "WCS request of retrieving all global fields of one specific month and processing the monthly average of every grid-point on-the-fly. The query contains following processing steps: (1) Surface temperature values in Kelvin are converted to degree Celsius and (2) 6-hourly global surface temperature fields for one specific month are averaged.\n",
    "* Access point: http://earthserver.ecmwf.int/rasdaman/ows?service=WCS&version=2.0.1\n",
    "* Request type: &ProcessCoverages\n",
    "* WCPS query:see below\n"
   ]
  },
  {
   "cell_type": "code",
   "execution_count": null,
   "metadata": {
    "collapsed": true
   },
   "outputs": [],
   "source": [
    "url_fmt_field = 'http://earthserver.ecmwf.int/rasdaman/ows?service=WCS&version=2.0.1' \\\n",
    "    '&request=ProcessCoverages&' \\\n",
    "    'query=for c in (%s) return encode((condense + over $x x(imageCrsDomain(c[Lat(%f:%f), Long(%f:%f),ansi(\"%s\":\"%s\")], ansi))'\\\n",
    "    'using c[ansi($x)]/%d)-273.15, \"csv\")'"
   ]
  },
  {
   "cell_type": "code",
   "execution_count": null,
   "metadata": {
    "collapsed": true
   },
   "outputs": [],
   "source": [
    "# Create a raster stack of all monthly surface temperature averages\n",
    "import numpy as np\n",
    "monthlyStackGlobal = np.empty((361,720,12))\n",
    "k = 0\n",
    "for i,j in zip(startDateList,endDateList):\n",
    "    slices = j.day*4\n",
    "    url = url_fmt_field % (\"temp2m\", -90,90,-180,179.5, i.isoformat(),j.isoformat(), slices)\n",
    "    r= requests.get(url,\n",
    "                proxies={'http':None}\n",
    "                )\n",
    "\n",
    "    r.raise_for_status()\n",
    "    x = np.array(eval(r.text.replace('{','[').replace('}',']')))\n",
    "    monthlyStackGlobal[:,:,k] = x.transpose()\n",
    "    k = k+1"
   ]
  },
  {
   "cell_type": "code",
   "execution_count": null,
   "metadata": {
    "collapsed": true
   },
   "outputs": [],
   "source": [
    "monthlyStackGlobal[:,:,8]"
   ]
  },
  {
   "cell_type": "markdown",
   "metadata": {},
   "source": [
    "<hr>"
   ]
  },
  {
   "cell_type": "markdown",
   "metadata": {},
   "source": [
    "<a rel=\"license\" href=\"http://creativecommons.org/licenses/by/4.0/\"><img style=\"float: right\" alt=\"Creative Commons Lizenzvertrag\" style=\"border-width:0\" src=\"https://i.creativecommons.org/l/by/4.0/88x31.png\" /></a>"
   ]
  },
  {
   "cell_type": "code",
   "execution_count": null,
   "metadata": {
    "collapsed": true
   },
   "outputs": [],
   "source": []
  }
 ],
 "metadata": {
  "kernelspec": {
   "display_name": "Python 3",
   "language": "python",
   "name": "python3"
  },
  "language_info": {
   "codemirror_mode": {
    "name": "ipython",
    "version": 3
   },
   "file_extension": ".py",
   "mimetype": "text/x-python",
   "name": "python",
   "nbconvert_exporter": "python",
   "pygments_lexer": "ipython3",
   "version": "3.6.1"
  }
 },
 "nbformat": 4,
 "nbformat_minor": 2
}
