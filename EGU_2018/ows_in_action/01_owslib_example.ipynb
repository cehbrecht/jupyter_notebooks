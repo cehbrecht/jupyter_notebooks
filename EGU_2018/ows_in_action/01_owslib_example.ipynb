{
 "cells": [
  {
   "cell_type": "markdown",
   "metadata": {},
   "source": [
    "<img src=\"./img/logos_combined.png\" align=\"right\" width=\"50%\"></img>\n",
    "<br><br><br>"
   ]
  },
  {
   "cell_type": "markdown",
   "metadata": {},
   "source": [
    "# Python's OWSlib library - Using OGC web services from Python"
   ]
  },
  {
   "cell_type": "markdown",
   "metadata": {},
   "source": [
    "<hr>\n",
    "<a href=\"./index.ipynb\"><< Index</a>&nbsp;<space>&nbsp;<space>&nbsp;<space>&nbsp;<space>&nbsp;<space>&nbsp;<space>&nbsp;<space>&nbsp;<space>&nbsp;<space>&nbsp;<space> <a href=\"./02_wcps_example.ipynb\">WCPS example >></a>"
   ]
  },
  {
   "cell_type": "markdown",
   "metadata": {},
   "source": [
    "The OWSLib library is a python library that makes accessing data and metadata through OGC services possible. The library abstracts all of the traditional HTTP API calls into programmatic function calls. Two examples are given: one how to use the WebMapService class and one how to use the WebCoverageService class."
   ]
  },
  {
   "cell_type": "markdown",
   "metadata": {},
   "source": [
    "## OWSlib library - Using WMS from Python"
   ]
  },
  {
   "cell_type": "markdown",
   "metadata": {},
   "source": [
    "#### <i>Create a WebMapService object</i>"
   ]
  },
  {
   "cell_type": "code",
   "execution_count": null,
   "metadata": {
    "collapsed": true
   },
   "outputs": [],
   "source": [
    "# load owslib library\n",
    "from owslib.wms import WebMapService\n",
    "\n",
    "# Create your WebMapService object\n",
    "wms = WebMapService('http://apps.ecmwf.int/wms/?token=public', version='1.3.0')"
   ]
  },
  {
   "cell_type": "markdown",
   "metadata": {},
   "source": [
    "#### <i>Request layer information</i>"
   ]
  },
  {
   "cell_type": "code",
   "execution_count": null,
   "metadata": {},
   "outputs": [],
   "source": [
    "# See available layers\n",
    "list(wms.contents)"
   ]
  },
  {
   "cell_type": "markdown",
   "metadata": {},
   "source": [
    "#### <i>Get layer description</i>"
   ]
  },
  {
   "cell_type": "code",
   "execution_count": null,
   "metadata": {},
   "outputs": [],
   "source": [
    "wms['composition_co2_surface'].title"
   ]
  },
  {
   "cell_type": "markdown",
   "metadata": {},
   "source": [
    "#### <i>Get bounding box information in WGS84</i>"
   ]
  },
  {
   "cell_type": "code",
   "execution_count": null,
   "metadata": {},
   "outputs": [],
   "source": [
    "wms['composition_co2_surface'].boundingBoxWGS84"
   ]
  },
  {
   "cell_type": "markdown",
   "metadata": {},
   "source": [
    "#### <i>Get available styles</i>"
   ]
  },
  {
   "cell_type": "code",
   "execution_count": null,
   "metadata": {},
   "outputs": [],
   "source": [
    "wms['composition_co2_surface'].styles"
   ]
  },
  {
   "cell_type": "markdown",
   "metadata": {},
   "source": [
    "#### <i>See available methods</i>"
   ]
  },
  {
   "cell_type": "code",
   "execution_count": null,
   "metadata": {},
   "outputs": [],
   "source": [
    "[op.name for op in wms.operations]"
   ]
  },
  {
   "cell_type": "markdown",
   "metadata": {},
   "source": [
    "#### <i>Get available formats</i>"
   ]
  },
  {
   "cell_type": "code",
   "execution_count": null,
   "metadata": {},
   "outputs": [],
   "source": [
    "wms.getOperationByName('GetMap').formatOptions"
   ]
  },
  {
   "cell_type": "markdown",
   "metadata": {},
   "source": [
    "#### <i>Request a map</i>"
   ]
  },
  {
   "cell_type": "code",
   "execution_count": null,
   "metadata": {},
   "outputs": [],
   "source": [
    "%matplotlib inline\n",
    "import os, sys\n",
    "import matplotlib.image as mpimg\n",
    "import matplotlib.pyplot as plt\n",
    "\n",
    "def getMap(layerName,bbox,filename):\n",
    "    wms.getOperationByName('GetMap').formatOptions\n",
    "    img = wms.getmap(layers=[layerName],\n",
    "                 size=(600,300),\n",
    "                 srs='EPSG:4326',\n",
    "                 bbox=bbox,\n",
    "                 format='image/png',\n",
    "                 transparent=True)\n",
    "\n",
    "    tmpfile = open(filename,'wb')\n",
    "    tmpfile.write(img.read())\n",
    "    tmpfile.close()\n",
    "getMap('foreground',(-180,-90,180,90), 'foreground.png')\n",
    "getMap('background',(-180,-90,180,90), 'background.png')\n",
    "getMap('composition_bbaod550',(-180,-90,180,90), 'bbaod550.png')\n",
    "\n",
    "\n",
    "image1=mpimg.imread('background.png')\n",
    "image2=mpimg.imread('bbaod550.png')\n",
    "image3=mpimg.imread('foreground.png')\n",
    "fig = plt.figure(figsize=(12,7))\n",
    "\n",
    "img1=plt.imshow(image1,extent=[-180,180,-90,90],aspect='auto')\n",
    "img2=plt.imshow(image2,extent=[-180,180,-90,90],aspect='auto')\n",
    "img3=plt.imshow(image3,extent=[-180,180,-90,90],aspect='auto')\n",
    "plt.show()"
   ]
  },
  {
   "cell_type": "markdown",
   "metadata": {},
   "source": [
    "<hr>"
   ]
  },
  {
   "cell_type": "markdown",
   "metadata": {},
   "source": [
    "## OWSlib library - Using WCS from Python\n",
    "\n",
    "The library supporting WCS 2.0 is available from GitHub @ https://github.com/earthserver-eu/OWSLib"
   ]
  },
  {
   "cell_type": "markdown",
   "metadata": {},
   "source": [
    "#### <i>Create a WebCoverageService (WCS) object</i>"
   ]
  },
  {
   "cell_type": "code",
   "execution_count": null,
   "metadata": {},
   "outputs": [],
   "source": [
    "from owslib.wcs import WebCoverageService\n",
    "\n",
    "ecmwf_wcs = WebCoverageService('http://earthserver.ecmwf.int/rasdaman/ows?', version='2.0.1')"
   ]
  },
  {
   "cell_type": "code",
   "execution_count": null,
   "metadata": {},
   "outputs": [],
   "source": [
    "print(ecmwf_wcs)"
   ]
  },
  {
   "cell_type": "markdown",
   "metadata": {},
   "source": [
    "#### <i>Get a list of available coverages</i>"
   ]
  },
  {
   "cell_type": "code",
   "execution_count": null,
   "metadata": {},
   "outputs": [],
   "source": [
    "for coverage_name in ecmwf_wcs.contents.keys():\n",
    "    print(coverage_name)"
   ]
  },
  {
   "cell_type": "markdown",
   "metadata": {},
   "source": [
    "#### <i>Retrieve a list of available properties of a coverage</i>"
   ]
  },
  {
   "cell_type": "code",
   "execution_count": null,
   "metadata": {},
   "outputs": [],
   "source": [
    "for item in dir(ecmwf_wcs.contents['temp2m']):\n",
    "    if \"_\" not in item:\n",
    "        print(item)"
   ]
  },
  {
   "cell_type": "markdown",
   "metadata": {},
   "source": [
    "#### <i>Retrieve bounding box information</i>"
   ]
  },
  {
   "cell_type": "code",
   "execution_count": null,
   "metadata": {},
   "outputs": [],
   "source": [
    "ecmwf_wcs.contents['temp2m'].boundingboxes"
   ]
  },
  {
   "cell_type": "markdown",
   "metadata": {},
   "source": [
    "#### <i>Retrieve grid property information</i>"
   ]
  },
  {
   "cell_type": "code",
   "execution_count": null,
   "metadata": {},
   "outputs": [],
   "source": [
    "for item in dir(ecmwf_wcs.contents['temp2m'].grid):\n",
    "    if \"_\" not in item:\n",
    "        print (item + \": \" + str(ecmwf_wcs.contents['temp2m'].grid.__dict__[item]))"
   ]
  },
  {
   "cell_type": "markdown",
   "metadata": {},
   "source": [
    "#### <i>Retrieve supported formats</i>"
   ]
  },
  {
   "cell_type": "code",
   "execution_count": null,
   "metadata": {},
   "outputs": [],
   "source": [
    "ecmwf_wcs.contents['temp2m'].supportedFormats"
   ]
  },
  {
   "cell_type": "markdown",
   "metadata": {},
   "source": [
    "#### <i>Build a GetCoverage request based on the collected coverage information</i>"
   ]
  },
  {
   "cell_type": "code",
   "execution_count": null,
   "metadata": {},
   "outputs": [],
   "source": [
    "# Request a global 2m air temperature data field from 1 August 2003 at 12:00 UTC as netcdf.\n",
    "# Store the file temporarily and load it for plotting of the data field\n",
    "\n",
    "%matplotlib inline\n",
    "import netCDF4 as nc\n",
    "import numpy as np\n",
    "from matplotlib import pyplot as plt\n",
    "\n",
    "# GetCoverage request\n",
    "coverage_file = ecmwf_wcs.getCoverage(identifier=['temp2m'], format='application/netcdf', \n",
    "                                      subsets=[('Long',-180,179.5),('Lat',-90,90),('ansi',\"2003-08-01T12:00\",\"2003-08-01T18:00\")])\n",
    "\n",
    "# Store the requested field as netCDF file\n",
    "with open('testCoverage1.nc','w') as outfile:\n",
    "    outfile.write(coverage_file.read())\n",
    "\n",
    "# Open the stored netCDF file\n",
    "ncdata = nc.Dataset(\"testCoverage1.nc\",\"a\",format=\"NETCDF4\")\n",
    "\n",
    "# Retrieve the data from the netCDF object\n",
    "data = np.flipud(np.rot90(ncdata.variables['field_1'][:,:,0]))\n",
    "\n",
    "# Plot the data\n",
    "plt.figure(figsize=(40,20))\n",
    "plt.imshow(data)"
   ]
  },
  {
   "cell_type": "markdown",
   "metadata": {},
   "source": [
    "<hr>"
   ]
  },
  {
   "cell_type": "markdown",
   "metadata": {},
   "source": [
    "<a rel=\"license\" href=\"http://creativecommons.org/licenses/by/4.0/\"><img style=\"float: right\" alt=\"Creative Commons Lizenzvertrag\" style=\"border-width:0\" src=\"https://i.creativecommons.org/l/by/4.0/88x31.png\" /></a>"
   ]
  },
  {
   "cell_type": "code",
   "execution_count": null,
   "metadata": {
    "collapsed": true
   },
   "outputs": [],
   "source": []
  }
 ],
 "metadata": {
  "kernelspec": {
   "display_name": "Python 3",
   "language": "python",
   "name": "python3"
  },
  "language_info": {
   "codemirror_mode": {
    "name": "ipython",
    "version": 3
   },
   "file_extension": ".py",
   "mimetype": "text/x-python",
   "name": "python",
   "nbconvert_exporter": "python",
   "pygments_lexer": "ipython3",
   "version": "3.6.1"
  }
 },
 "nbformat": 4,
 "nbformat_minor": 1
}
